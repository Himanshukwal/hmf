{
 "cells": [
  {
   "cell_type": "markdown",
   "metadata": {},
   "source": [
    "# Broad Overview of `hmf`"
   ]
  },
  {
   "cell_type": "markdown",
   "metadata": {},
   "source": [
    "In this tutorial/demo, we provide a broad overview of the way `hmf` works, and its features. \n",
    "For those really just needing to make a quick plot of a mass function, the best place to start is in the [Quickstart](../your_first_plot.html) tutorial. This tutorial will go into a little more depth (without exploring more advanced niche features)."
   ]
  },
  {
   "cell_type": "markdown",
   "metadata": {},
   "source": [
    "## The Package Layout"
   ]
  },
  {
   "cell_type": "markdown",
   "metadata": {},
   "source": [
    "`hmf` is quite modular, and contains a number of sub-packages concerning each of the physical components that go into defining the halo mass function:"
   ]
  },
  {
   "cell_type": "code",
   "execution_count": 1,
   "metadata": {
    "ExecuteTime": {
     "end_time": "2020-05-20T03:24:46.768046Z",
     "start_time": "2020-05-20T03:24:46.241876Z"
    }
   },
   "outputs": [],
   "source": [
    "from hmf import (\n",
    "    cosmology,      # Defines cosmographic parameters and growth functions\n",
    "    density_field,  # Defines power spectra and transfer functions, as well as window functions/filters on those\n",
    "    halos,          # Defines halo-specific forms such as mass definitions\n",
    "    mass_function   # Defines routines that combine the above to obtain halo mass functions\n",
    ")"
   ]
  },
  {
   "cell_type": "markdown",
   "metadata": {},
   "source": [
    "While each of these modules has tools that can be useful for more advanced usage, the primary point of contact with `hmf` is the `MassFunction` object, which essentially contains all the working of the full package. This lives in the `mass_function` submodule, but can be imported from the top level:"
   ]
  },
  {
   "cell_type": "code",
   "execution_count": 2,
   "metadata": {
    "ExecuteTime": {
     "end_time": "2020-05-20T03:26:28.484690Z",
     "start_time": "2020-05-20T03:26:28.476999Z"
    }
   },
   "outputs": [],
   "source": [
    "from hmf import MassFunction"
   ]
  },
  {
   "cell_type": "markdown",
   "metadata": {},
   "source": []
  }
 ],
 "metadata": {
  "kernelspec": {
   "display_name": "Python [conda env:hmf]",
   "language": "python",
   "name": "conda-env-hmf-py"
  },
  "language_info": {
   "codemirror_mode": {
    "name": "ipython",
    "version": 3
   },
   "file_extension": ".py",
   "mimetype": "text/x-python",
   "name": "python",
   "nbconvert_exporter": "python",
   "pygments_lexer": "ipython3",
   "version": "3.7.0"
  },
  "latex_envs": {
   "LaTeX_envs_menu_present": true,
   "autoclose": true,
   "autocomplete": true,
   "bibliofile": "biblio.bib",
   "cite_by": "apalike",
   "current_citInitial": 1,
   "eqLabelWithNumbers": true,
   "eqNumInitial": 1,
   "hotkeys": {
    "equation": "Ctrl-E",
    "itemize": "Ctrl-I"
   },
   "labels_anchors": false,
   "latex_user_defs": false,
   "report_style_numbering": false,
   "user_envs_cfg": false
  },
  "toc": {
   "base_numbering": 1,
   "nav_menu": {},
   "number_sections": true,
   "sideBar": true,
   "skip_h1_title": false,
   "title_cell": "Table of Contents",
   "title_sidebar": "Contents",
   "toc_cell": false,
   "toc_position": {},
   "toc_section_display": true,
   "toc_window_display": false
  }
 },
 "nbformat": 4,
 "nbformat_minor": 4
}
